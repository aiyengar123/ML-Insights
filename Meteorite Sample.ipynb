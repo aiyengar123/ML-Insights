{
 "cells": [
  {
   "cell_type": "code",
   "execution_count": 1,
   "metadata": {},
   "outputs": [],
   "source": [
    "import pandas as pd"
   ]
  },
  {
   "cell_type": "code",
   "execution_count": 4,
   "metadata": {},
   "outputs": [],
   "source": [
    "df = pd.read_csv(\"meteorite-landings 3.csv\")"
   ]
  },
  {
   "cell_type": "code",
   "execution_count": 40,
   "metadata": {},
   "outputs": [
    {
     "data": {
      "text/html": [
       "<div>\n",
       "<style scoped>\n",
       "    .dataframe tbody tr th:only-of-type {\n",
       "        vertical-align: middle;\n",
       "    }\n",
       "\n",
       "    .dataframe tbody tr th {\n",
       "        vertical-align: top;\n",
       "    }\n",
       "\n",
       "    .dataframe thead th {\n",
       "        text-align: right;\n",
       "    }\n",
       "</style>\n",
       "<table border=\"1\" class=\"dataframe\">\n",
       "  <thead>\n",
       "    <tr style=\"text-align: right;\">\n",
       "      <th></th>\n",
       "      <th>name</th>\n",
       "      <th>id</th>\n",
       "      <th>nametype</th>\n",
       "      <th>recclass</th>\n",
       "      <th>mass</th>\n",
       "      <th>fall</th>\n",
       "      <th>year</th>\n",
       "      <th>reclat</th>\n",
       "      <th>reclong</th>\n",
       "      <th>GeoLocation</th>\n",
       "    </tr>\n",
       "  </thead>\n",
       "  <tbody>\n",
       "    <tr>\n",
       "      <th>38188</th>\n",
       "      <td>Ur</td>\n",
       "      <td>24125</td>\n",
       "      <td>Valid</td>\n",
       "      <td>Iron</td>\n",
       "      <td>NaN</td>\n",
       "      <td>Found</td>\n",
       "      <td>2501.0</td>\n",
       "      <td>30.90000</td>\n",
       "      <td>46.01667</td>\n",
       "      <td>(30.900000, 46.016670)</td>\n",
       "    </tr>\n",
       "    <tr>\n",
       "      <th>30679</th>\n",
       "      <td>Northwest Africa 7701</td>\n",
       "      <td>57150</td>\n",
       "      <td>Valid</td>\n",
       "      <td>CK6</td>\n",
       "      <td>55.0</td>\n",
       "      <td>Found</td>\n",
       "      <td>2101.0</td>\n",
       "      <td>0.00000</td>\n",
       "      <td>0.00000</td>\n",
       "      <td>(0.000000, 0.000000)</td>\n",
       "    </tr>\n",
       "    <tr>\n",
       "      <th>30760</th>\n",
       "      <td>Northwest Africa 7822</td>\n",
       "      <td>57268</td>\n",
       "      <td>Valid</td>\n",
       "      <td>Achondrite-ung</td>\n",
       "      <td>45.8</td>\n",
       "      <td>Found</td>\n",
       "      <td>2013.0</td>\n",
       "      <td>0.00000</td>\n",
       "      <td>0.00000</td>\n",
       "      <td>(0.000000, 0.000000)</td>\n",
       "    </tr>\n",
       "    <tr>\n",
       "      <th>30773</th>\n",
       "      <td>Northwest Africa 7857</td>\n",
       "      <td>57422</td>\n",
       "      <td>Valid</td>\n",
       "      <td>LL6</td>\n",
       "      <td>246.0</td>\n",
       "      <td>Found</td>\n",
       "      <td>2013.0</td>\n",
       "      <td>0.00000</td>\n",
       "      <td>0.00000</td>\n",
       "      <td>(0.000000, 0.000000)</td>\n",
       "    </tr>\n",
       "    <tr>\n",
       "      <th>30759</th>\n",
       "      <td>Northwest Africa 7812</td>\n",
       "      <td>57258</td>\n",
       "      <td>Valid</td>\n",
       "      <td>Angrite</td>\n",
       "      <td>46.2</td>\n",
       "      <td>Found</td>\n",
       "      <td>2013.0</td>\n",
       "      <td>0.00000</td>\n",
       "      <td>0.00000</td>\n",
       "      <td>(0.000000, 0.000000)</td>\n",
       "    </tr>\n",
       "    <tr>\n",
       "      <th>...</th>\n",
       "      <td>...</td>\n",
       "      <td>...</td>\n",
       "      <td>...</td>\n",
       "      <td>...</td>\n",
       "      <td>...</td>\n",
       "      <td>...</td>\n",
       "      <td>...</td>\n",
       "      <td>...</td>\n",
       "      <td>...</td>\n",
       "      <td>...</td>\n",
       "    </tr>\n",
       "    <tr>\n",
       "      <th>38128</th>\n",
       "      <td>Um-Hadid</td>\n",
       "      <td>24114</td>\n",
       "      <td>Valid</td>\n",
       "      <td>Mesosiderite</td>\n",
       "      <td>15400.0</td>\n",
       "      <td>Found</td>\n",
       "      <td>NaN</td>\n",
       "      <td>21.69500</td>\n",
       "      <td>50.59667</td>\n",
       "      <td>(21.695000, 50.596670)</td>\n",
       "    </tr>\n",
       "    <tr>\n",
       "      <th>38201</th>\n",
       "      <td>Valencia</td>\n",
       "      <td>24147</td>\n",
       "      <td>Valid</td>\n",
       "      <td>H5</td>\n",
       "      <td>33500.0</td>\n",
       "      <td>Found</td>\n",
       "      <td>NaN</td>\n",
       "      <td>39.00000</td>\n",
       "      <td>-0.03333</td>\n",
       "      <td>(39.000000, -0.033330)</td>\n",
       "    </tr>\n",
       "    <tr>\n",
       "      <th>38224</th>\n",
       "      <td>Villa Regina</td>\n",
       "      <td>53827</td>\n",
       "      <td>Valid</td>\n",
       "      <td>Iron, IIIAB</td>\n",
       "      <td>5030.0</td>\n",
       "      <td>Found</td>\n",
       "      <td>NaN</td>\n",
       "      <td>-39.10000</td>\n",
       "      <td>-67.06667</td>\n",
       "      <td>(-39.100000, -67.066670)</td>\n",
       "    </tr>\n",
       "    <tr>\n",
       "      <th>38328</th>\n",
       "      <td>Wiltshire</td>\n",
       "      <td>56143</td>\n",
       "      <td>Valid</td>\n",
       "      <td>H5</td>\n",
       "      <td>92750.0</td>\n",
       "      <td>Found</td>\n",
       "      <td>NaN</td>\n",
       "      <td>51.14967</td>\n",
       "      <td>-1.81000</td>\n",
       "      <td>(51.149670, -1.810000)</td>\n",
       "    </tr>\n",
       "    <tr>\n",
       "      <th>45700</th>\n",
       "      <td>Zaragoza</td>\n",
       "      <td>48916</td>\n",
       "      <td>Valid</td>\n",
       "      <td>Iron, IVA-an</td>\n",
       "      <td>162000.0</td>\n",
       "      <td>Found</td>\n",
       "      <td>NaN</td>\n",
       "      <td>41.65000</td>\n",
       "      <td>-0.86667</td>\n",
       "      <td>(41.650000, -0.866670)</td>\n",
       "    </tr>\n",
       "  </tbody>\n",
       "</table>\n",
       "<p>45716 rows × 10 columns</p>\n",
       "</div>"
      ],
      "text/plain": [
       "                        name     id nametype        recclass      mass   fall  \\\n",
       "38188                     Ur  24125    Valid            Iron       NaN  Found   \n",
       "30679  Northwest Africa 7701  57150    Valid             CK6      55.0  Found   \n",
       "30760  Northwest Africa 7822  57268    Valid  Achondrite-ung      45.8  Found   \n",
       "30773  Northwest Africa 7857  57422    Valid             LL6     246.0  Found   \n",
       "30759  Northwest Africa 7812  57258    Valid         Angrite      46.2  Found   \n",
       "...                      ...    ...      ...             ...       ...    ...   \n",
       "38128               Um-Hadid  24114    Valid    Mesosiderite   15400.0  Found   \n",
       "38201               Valencia  24147    Valid              H5   33500.0  Found   \n",
       "38224           Villa Regina  53827    Valid     Iron, IIIAB    5030.0  Found   \n",
       "38328              Wiltshire  56143    Valid              H5   92750.0  Found   \n",
       "45700               Zaragoza  48916    Valid    Iron, IVA-an  162000.0  Found   \n",
       "\n",
       "         year    reclat   reclong               GeoLocation  \n",
       "38188  2501.0  30.90000  46.01667    (30.900000, 46.016670)  \n",
       "30679  2101.0   0.00000   0.00000      (0.000000, 0.000000)  \n",
       "30760  2013.0   0.00000   0.00000      (0.000000, 0.000000)  \n",
       "30773  2013.0   0.00000   0.00000      (0.000000, 0.000000)  \n",
       "30759  2013.0   0.00000   0.00000      (0.000000, 0.000000)  \n",
       "...       ...       ...       ...                       ...  \n",
       "38128     NaN  21.69500  50.59667    (21.695000, 50.596670)  \n",
       "38201     NaN  39.00000  -0.03333    (39.000000, -0.033330)  \n",
       "38224     NaN -39.10000 -67.06667  (-39.100000, -67.066670)  \n",
       "38328     NaN  51.14967  -1.81000    (51.149670, -1.810000)  \n",
       "45700     NaN  41.65000  -0.86667    (41.650000, -0.866670)  \n",
       "\n",
       "[45716 rows x 10 columns]"
      ]
     },
     "execution_count": 40,
     "metadata": {},
     "output_type": "execute_result"
    }
   ],
   "source": [
    "df.sort_values(\"year\",ascending=False)"
   ]
  },
  {
   "cell_type": "code",
   "execution_count": 6,
   "metadata": {},
   "outputs": [
    {
     "data": {
      "text/plain": [
       "(45716, 10)"
      ]
     },
     "execution_count": 6,
     "metadata": {},
     "output_type": "execute_result"
    }
   ],
   "source": [
    "df.shape"
   ]
  },
  {
   "cell_type": "code",
   "execution_count": 11,
   "metadata": {},
   "outputs": [],
   "source": [
    "import pandas as pd\n",
    "import geopandas as gpd\n",
    "import geopy\n",
    "from geopy.geocoders import Nominatim\n",
    "from geopy.extra.rate_limiter import RateLimiter\n",
    "import matplotlib.pyplot as plt\n",
    "import plotly_express as px\n",
    "#import tqdm\n",
    "#from tqdm._tqdm_notebook import tqdm_notebookz"
   ]
  },
  {
   "cell_type": "code",
   "execution_count": 41,
   "metadata": {},
   "outputs": [
    {
     "data": {
      "text/plain": [
       "{'place_id': 306951961,\n",
       " 'licence': 'Data © OpenStreetMap contributors, ODbL 1.0. https://osm.org/copyright',\n",
       " 'osm_type': 'relation',\n",
       " 'osm_id': 12400642,\n",
       " 'lat': '25.3877578',\n",
       " 'lon': '49.5626628',\n",
       " 'display_name': 'محافظة الأحساء, المنطقة الشرقية, السعودية',\n",
       " 'address': {'city': 'محافظة الأحساء',\n",
       "  'state': 'المنطقة الشرقية',\n",
       "  'country': 'السعودية',\n",
       "  'country_code': 'sa'},\n",
       " 'boundingbox': ['19.3329996', '26.6005899', '47.5243998', '51.9975393']}"
      ]
     },
     "execution_count": 41,
     "metadata": {},
     "output_type": "execute_result"
    }
   ],
   "source": [
    "locator = Nominatim(user_agent=\"myGeocoder\")\n",
    "coordinates = \"21.695000, 50.596670\"\n",
    "location = locator.reverse(coordinates)\n",
    "location.raw"
   ]
  },
  {
   "cell_type": "code",
   "execution_count": 29,
   "metadata": {},
   "outputs": [
    {
     "name": "stdout",
     "output_type": "stream",
     "text": [
      "Calle 2, Independencia, Acapulco, Acapulco de Juárez, Guerrero, 39300, México\n"
     ]
    }
   ],
   "source": [
    "print(location.address)"
   ]
  },
  {
   "cell_type": "code",
   "execution_count": 30,
   "metadata": {},
   "outputs": [],
   "source": [
    "location=location.address.split(\", \")"
   ]
  },
  {
   "cell_type": "code",
   "execution_count": 31,
   "metadata": {},
   "outputs": [
    {
     "data": {
      "text/plain": [
       "'México'"
      ]
     },
     "execution_count": 31,
     "metadata": {},
     "output_type": "execute_result"
    }
   ],
   "source": [
    "location[-1]"
   ]
  },
  {
   "cell_type": "code",
   "execution_count": 37,
   "metadata": {},
   "outputs": [
    {
     "data": {
      "text/plain": [
       "'(50.775000, 6.083330)'"
      ]
     },
     "execution_count": 37,
     "metadata": {},
     "output_type": "execute_result"
    }
   ],
   "source": [
    "df.iloc[0,9]"
   ]
  },
  {
   "cell_type": "code",
   "execution_count": null,
   "metadata": {},
   "outputs": [],
   "source": []
  }
 ],
 "metadata": {
  "kernelspec": {
   "display_name": "Python 3",
   "language": "python",
   "name": "python3"
  },
  "language_info": {
   "codemirror_mode": {
    "name": "ipython",
    "version": 3
   },
   "file_extension": ".py",
   "mimetype": "text/x-python",
   "name": "python",
   "nbconvert_exporter": "python",
   "pygments_lexer": "ipython3",
   "version": "3.6.5"
  }
 },
 "nbformat": 4,
 "nbformat_minor": 2
}
