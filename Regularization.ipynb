{
 "cells": [
  {
   "cell_type": "markdown",
   "metadata": {},
   "source": [
    "## Motivation\n",
    "\n",
    "Model overfitting during training is associated with very large estimated parmeters ($w_i >> 0$).\n",
    "\n",
    "Overfitting is not limited to polynomial regression of large degree.  It can also happen if you use a large number of features!  \n",
    "\n",
    "Why? Overfitting depends on how much data you have and if there is enough to get a representative sample for the complexity of the model.\n",
    "\n",
    "How do the number of features affect overfitting?\n",
    "* __feature__ : Data must include representative example of all (𝑥, 𝑦) pairs to avoid overfitting (HARD)\n",
    "* __D features__ : Data must include representative example of all 𝑥_1 , 𝑥_2 , … , 𝑥_𝐷 , 𝑦 combos to avoid overfitting! (MUCH HARDER)\n",
    "\n",
    "Having many features introduces \"Curse of Dimensionality\".\n",
    "\n",
    "We could use cross validation / validation set to pick which model complexity to use\n",
    "* In the case of polynomial regression, we just chose degree 𝑝\n",
    "* For deciding which or how many features to use, there are a lot of choices!\n",
    "  **  For 𝑑 inputs, there are 2^d subsets of those features!\n",
    "  \n",
    "What if we use a model that wasn’t prone to overfitting?\n",
    "* __Big Idea__: Have the model self-regulate to prevent overfitting by making sure its coefficients don’t get ”too large”\n",
    "\n",
    "This idea is called **regularization**.\n",
    "\n",
    "The \"Cost function\" that we have been using is the Ordinary Least Squares (OLS):\n",
    "\n",
    "$$\\hat{w}_{LS} = \\min_w RSS(w)$$\n",
    "\n",
    "We can arbitrarily minimize this OLS by increasing the complexity of the model.  This leads to reduction in the \"bias\" of the model but increases the variance of the model -- so that it is less generalizable.  \n",
    "\n",
    "$$\\hat{w}_{ridge} = \\min_w RSS(w) + \\lambda R(w)$$\n",
    "\n",
    "R(w) is some cost function of the complexity of the model parameters.\n"
   ]
  },
  {
   "cell_type": "code",
   "execution_count": 1,
   "metadata": {},
   "outputs": [],
   "source": [
    "import numpy as np\n",
    "import matplotlib.pyplot as plt\n",
    "\n",
    "import matplotlib\n",
    "font = {'size': 18}\n",
    "matplotlib.rc('font', **font)\n",
    "\n",
    "%matplotlib inline"
   ]
  },
  {
   "cell_type": "code",
   "execution_count": 24,
   "metadata": {},
   "outputs": [],
   "source": [
    "# Define the true function f\n",
    "def f(x):\n",
    "    return 100 * (x - 0.5) ** 3 - 16 * x + 2 * x + 2 * 6.25"
   ]
  },
  {
   "cell_type": "code",
   "execution_count": 25,
   "metadata": {},
   "outputs": [],
   "source": [
    "# Generate a list of x's so we can properly draw the model\n",
    "xs = np.linspace(0, 1, 1000).reshape((1000, 1))"
   ]
  },
  {
   "cell_type": "code",
   "execution_count": 26,
   "metadata": {},
   "outputs": [
    {
     "data": {
      "text/plain": [
       "[<matplotlib.lines.Line2D at 0x7fa2e0642820>]"
      ]
     },
     "execution_count": 26,
     "metadata": {},
     "output_type": "execute_result"
    },
    {
     "data": {
      "image/png": "[encoded data removed]",
      "text/plain": [
       "<Figure size 432x288 with 1 Axes>"
      ]
     },
     "metadata": {
      "needs_background": "light"
     },
     "output_type": "display_data"
    }
   ],
   "source": [
    "plt.plot(xs, f(xs))"
   ]
  },
  {
   "cell_type": "code",
   "execution_count": 27,
   "metadata": {},
   "outputs": [
    {
     "data": {
      "text/plain": [
       "array([[0.86111049],\n",
       "       [0.72068429],\n",
       "       [0.49394116],\n",
       "       [0.96121398],\n",
       "       [0.14627299],\n",
       "       [0.06081505],\n",
       "       [0.62845619],\n",
       "       [0.13542906],\n",
       "       [0.65966806],\n",
       "       [0.23527458],\n",
       "       [0.76939931],\n",
       "       [0.02044608],\n",
       "       [0.58969147],\n",
       "       [0.97615076],\n",
       "       [0.15919342],\n",
       "       [0.08105957],\n",
       "       [0.64933538],\n",
       "       [0.502001  ],\n",
       "       [0.89259461],\n",
       "       [0.70977147]])"
      ]
     },
     "execution_count": 27,
     "metadata": {},
     "output_type": "execute_result"
    }
   ],
   "source": [
    "# Generate 20 random data points\n",
    "X = np.random.uniform(0 , 1, 20).reshape((20, 1))\n",
    "X"
   ]
  },
  {
   "cell_type": "code",
   "execution_count": 28,
   "metadata": {},
   "outputs": [],
   "source": [
    "# Generate 20 noisy targets for training data\n",
    "y = f(X) + np.random.normal(0, 1, (20, 1))"
   ]
  },
  {
   "cell_type": "code",
   "execution_count": 29,
   "metadata": {},
   "outputs": [
    {
     "data": {
      "text/plain": [
       "<matplotlib.collections.PathCollection at 0x7fa2e05f9c40>"
      ]
     },
     "execution_count": 29,
     "metadata": {},
     "output_type": "execute_result"
    },
    {
     "data": {
      "image/png": "[encoded data removed]",
      "text/plain": [
       "<Figure size 432x288 with 1 Axes>"
      ]
     },
     "metadata": {
      "needs_background": "light"
     },
     "output_type": "display_data"
    }
   ],
   "source": [
    "# Plot them together\n",
    "plt.plot(xs, f(xs), color='green')\n",
    "plt.scatter(X, y, color='black')"
   ]
  },
  {
   "cell_type": "markdown",
   "metadata": {},
   "source": [
    "## Overfitting"
   ]
  },
  {
   "cell_type": "code",
   "execution_count": 30,
   "metadata": {},
   "outputs": [],
   "source": [
    "from sklearn.preprocessing import PolynomialFeatures\n",
    "from sklearn.linear_model import LinearRegression\n",
    "\n",
    "def poly_model(degree, X, y, xs):\n",
    "    # Generate polynomial features of degree p\n",
    "    poly = PolynomialFeatures(degree)\n",
    "    X_poly = poly.fit_transform(X)\n",
    "    xs_poly = poly.transform(xs)\n",
    "\n",
    "    # Train the model and make predictions along all xs\n",
    "    model = LinearRegression()\n",
    "    model.fit(X_poly, y)\n",
    "    predictions = model.predict(xs_poly)\n",
    "\n",
    "    # Plot the prediction results\n",
    "    plt.scatter(X, y, label='Data', c='black')\n",
    "    plt.plot(xs, predictions, label='Predicted f')\n",
    "\n",
    "    # Customize plot for readability\n",
    "    plt.title(f'Degree {degree}')\n",
    "    plt.xlabel('x')\n",
    "    plt.ylabel('y')\n",
    "    plt.legend(bbox_to_anchor=(1.04,1), loc=\"upper left\")  # Legend outside plot\n",
    "    plt.xlim(0, 1)\n",
    "    plt.ylim(0, y.max() + 1)\n",
    "\n",
    "    plt.show()"
   ]
  },
  {
   "cell_type": "markdown",
   "metadata": {},
   "source": [
    "Let's understand how the degree polynomial fit can cause overfitting for a fixed sized dataset"
   ]
  },
  {
   "cell_type": "code",
   "execution_count": 31,
   "metadata": {},
   "outputs": [
    {
     "data": {
      "application/vnd.jupyter.widget-view+json": {
       "model_id": "a7b9ddb4482b47d3bd5fac5a1e894e3e",
       "version_major": 2,
       "version_minor": 0
      },
      "text/plain": [
       "interactive(children=(IntSlider(value=0, description='degree', max=30), Output(layout=Layout(height='350px')))…"
      ]
     },
     "metadata": {},
     "output_type": "display_data"
    }
   ],
   "source": [
    "# Code to create the interactive widget\n",
    "from ipywidgets import fixed, interactive, IntSlider, widget, widgets\n",
    "\n",
    "interactive_plot = interactive(poly_model, \n",
    "                               degree=IntSlider(min=0, max=30),\n",
    "                               X=fixed(X),\n",
    "                               y=fixed(y),\n",
    "                               xs=fixed(xs))\n",
    "\n",
    "output = interactive_plot.children[-1]\n",
    "output.layout.height = '350px'\n",
    "interactive_plot"
   ]
  },
  {
   "cell_type": "markdown",
   "metadata": {},
   "source": [
    "Let's see how the magnitude of the coefficients changes as we increase the degree of the polynomial. Notice that the y-scale is long so the biggest values are on the order of  1014 !"
   ]
  },
  {
   "cell_type": "code",
   "execution_count": 32,
   "metadata": {},
   "outputs": [
    {
     "data": {
      "image/png": "[encoded data removed]",
      "text/plain": [
       "<Figure size 432x288 with 1 Axes>"
      ]
     },
     "metadata": {
      "needs_background": "light"
     },
     "output_type": "display_data"
    }
   ],
   "source": [
    "degrees = list(range(1, 31))\n",
    "largest_coeffs = []\n",
    "\n",
    "for p in degrees:  \n",
    "    # Generate data with polynomial features of degree p\n",
    "    poly = PolynomialFeatures(p)\n",
    "    X_poly = poly.fit_transform(X)\n",
    "    xs_poly = poly.transform(xs)\n",
    "\n",
    "    # Train the model \n",
    "    model = LinearRegression()\n",
    "    model.fit(X_poly, y)\n",
    "    \n",
    "    # Find largest coefficient\n",
    "    coeff = np.abs(model.coef_).max()\n",
    "    largest_coeffs.append(coeff)\n",
    "    \n",
    "# Plot the coefficients\n",
    "plt.plot(degrees, largest_coeffs)\n",
    "plt.title('Overfitting -> Large Coefficients')\n",
    "plt.xlabel('Degree')\n",
    "plt.ylabel('Magnitude of Largest Coefficient')\n",
    "plt.yscale('log')"
   ]
  },
  {
   "cell_type": "markdown",
   "metadata": {},
   "source": [
    "How can we think about overfitting?  One way to to consider the number of datapoints matter for overfitting. If we use a high degree polynomial and a small dataset, its more likely to overfit. If we use the same degree polynomial but on a larger dataset, it is harder to overfit"
   ]
  },
  {
   "cell_type": "code",
   "execution_count": 33,
   "metadata": {},
   "outputs": [
    {
     "data": {
      "image/png": "[encoded data removed]",
      "text/plain": [
       "<Figure size 432x288 with 1 Axes>"
      ]
     },
     "metadata": {
      "needs_background": "light"
     },
     "output_type": "display_data"
    },
    {
     "data": {
      "image/png": "[encoded data removed]",
      "text/plain": [
       "<Figure size 432x288 with 1 Axes>"
      ]
     },
     "metadata": {
      "needs_background": "light"
     },
     "output_type": "display_data"
    }
   ],
   "source": [
    "# Generate 100 random data points\n",
    "X_100 = np.random.uniform(0 , 1, 100).reshape((100, 1))\n",
    "y_100 = f(X_100) + np.random.normal(0, 0.5, (100, 1))\n",
    "\n",
    "# Train a 14 degree polynomial on 15 points\n",
    "poly_model(14, X_100[:15], y_100[:15], xs)\n",
    "# Train a 14 degree polynomial on 100 points\n",
    "poly_model(14, X_100, y_100, xs)"
   ]
  },
  {
   "cell_type": "markdown",
   "metadata": {},
   "source": [
    "## Ridge Regression\n",
    "\n",
    "Let's apply a penalty :  𝜆  * a cost function on the complexity of the model\n",
    "\n",
    "Ordinary Least Squares\n",
    "$$\\hat{w}_{LS} = \\min_w RSS(w)$$\n",
    "\n",
    "Ridge Regression\n",
    "\n",
    "$$\\hat{w}_{ridge} = \\min_w RSS(w) + \\lambda ||w||_2^2$$\n"
   ]
  },
  {
   "cell_type": "code",
   "execution_count": 34,
   "metadata": {},
   "outputs": [],
   "source": [
    "# Simple code to train a Ridge model\n",
    "from sklearn.linear_model import Ridge\n",
    "model = Ridge(alpha=1.5)"
   ]
  },
  {
   "cell_type": "code",
   "execution_count": 35,
   "metadata": {},
   "outputs": [],
   "source": [
    "# Define the function for plotting\n",
    "def poly_model_ridge(lam, degree, X, y, xs, ):\n",
    "    # Generate polynomial features of degree p\n",
    "    poly = PolynomialFeatures(degree)\n",
    "    X_poly = poly.fit_transform(X)\n",
    "    xs_poly = poly.transform(xs)\n",
    "\n",
    "    # Train the model and make predictions along all xs\n",
    "    model = Ridge(alpha=lam)\n",
    "    model.fit(X_poly, y)\n",
    "    predictions = model.predict(xs_poly)\n",
    "\n",
    "    # Plot the prediction results\n",
    "    plt.scatter(X, y, label='Data', c='black')\n",
    "    plt.plot(xs, predictions, label='Predicted f')\n",
    "\n",
    "    # Customize plot for readability\n",
    "    plt.title(f'Lambda {lam:0.2e}')\n",
    "    plt.xlabel('x')\n",
    "    plt.ylabel('y')\n",
    "    plt.legend(bbox_to_anchor=(1.04,1), loc=\"upper left\")  # Legend outside plot\n",
    "    plt.xlim(0, 1)\n",
    "    plt.ylim(0, y.max() + 1)\n",
    "\n",
    "    plt.show()"
   ]
  },
  {
   "cell_type": "code",
   "execution_count": 36,
   "metadata": {},
   "outputs": [
    {
     "data": {
      "application/vnd.jupyter.widget-view+json": {
       "model_id": "d587fb571d0d494399f16c9e95208f1a",
       "version_major": 2,
       "version_minor": 0
      },
      "text/plain": [
       "interactive(children=(FloatLogSlider(value=1e-10, description='lam', max=3.0, min=-10.0), Output(layout=Layout…"
      ]
     },
     "metadata": {},
     "output_type": "display_data"
    }
   ],
   "source": [
    "# Define interaction code\n",
    "from ipywidgets import fixed, interactive, FloatLogSlider, widget, widgets\n",
    "\n",
    "interactive_plot = interactive(poly_model_ridge, \n",
    "                               lam=FloatLogSlider(min=-10, max=3, value=-3),\n",
    "                               degree=fixed(14),\n",
    "                               X=fixed(X),\n",
    "                               y=fixed(y),\n",
    "                               xs=fixed(xs))\n",
    "\n",
    "output = interactive_plot.children[-1]\n",
    "output.layout.height = '350px'\n",
    "interactive_plot"
   ]
  },
  {
   "cell_type": "markdown",
   "metadata": {},
   "source": [
    "## LASSO Regression\n",
    "\n",
    "Ordinary Least Squares\n",
    "$$\\hat{w}_{LS} = \\min_w RSS(w)$$\n",
    "\n",
    "LASSO Regression\n",
    "\n",
    "$$\\hat{w}_{lasso} = \\min_w RSS(w) + \\lambda ||w||_1$$\n"
   ]
  },
  {
   "cell_type": "code",
   "execution_count": 37,
   "metadata": {},
   "outputs": [],
   "source": [
    "# Simple code to train a Lasso model\n",
    "from sklearn.linear_model import Lasso\n",
    "model = Lasso(alpha=1.5)"
   ]
  },
  {
   "cell_type": "code",
   "execution_count": 38,
   "metadata": {},
   "outputs": [],
   "source": [
    "from sklearn.preprocessing import PolynomialFeatures\n",
    "\n",
    "# Define the function for plotting\n",
    "def poly_model_lasso(lam, degree, X, y, xs, ):\n",
    "    # Generate polynomial features of degree p\n",
    "    poly = PolynomialFeatures(degree)\n",
    "    X_poly = poly.fit_transform(X)\n",
    "    xs_poly = poly.transform(xs)\n",
    "\n",
    "    # Train the model and make predictions along all xs\n",
    "    model = Lasso(alpha=lam)\n",
    "    model.fit(X_poly, y)\n",
    "    predictions = model.predict(xs_poly)\n",
    "\n",
    "    # Plot the prediction results\n",
    "    plt.scatter(X, y, label='Data', c='black')\n",
    "    plt.plot(xs, predictions, label='Predicted f')\n",
    "\n",
    "    # Customize plot for readability\n",
    "    plt.title(f'Lambda {lam:0.2e}')\n",
    "    plt.xlabel('x')\n",
    "    plt.ylabel('y')\n",
    "    plt.legend(bbox_to_anchor=(1.04,1), loc=\"upper left\")  # Legend outside plot\n",
    "    plt.xlim(0, 1)\n",
    "    plt.ylim(0, y.max() + 1)\n",
    "\n",
    "    plt.show()"
   ]
  },
  {
   "cell_type": "code",
   "execution_count": 39,
   "metadata": {},
   "outputs": [
    {
     "data": {
      "application/vnd.jupyter.widget-view+json": {
       "model_id": "530678edd2c4420491e5755a91bccbc4",
       "version_major": 2,
       "version_minor": 0
      },
      "text/plain": [
       "interactive(children=(FloatLogSlider(value=0.001, description='lam', max=3.0, min=-3.0), IntSlider(value=1, de…"
      ]
     },
     "metadata": {},
     "output_type": "display_data"
    }
   ],
   "source": [
    "# Define interaction code\n",
    "from ipywidgets import fixed, interactive, IntSlider, FloatLogSlider, widget, widgets\n",
    "\n",
    "interactive_plot = interactive(poly_model_lasso, \n",
    "                               lam=FloatLogSlider(min=-3, max=3, value=-3),\n",
    "                               degree=IntSlider(min=0, max=20, value=1),\n",
    "                               X=fixed(X),\n",
    "                               y=fixed(y),\n",
    "                               xs=fixed(xs))\n",
    "\n",
    "output = interactive_plot.children[-1]\n",
    "output.layout.height = '350px'\n",
    "interactive_plot"
   ]
  }
 ],
 "metadata": {
  "kernelspec": {
   "display_name": "Python 3",
   "language": "python",
   "name": "python3"
  },
  "language_info": {
   "codemirror_mode": {
    "name": "ipython",
    "version": 3
   },
   "file_extension": ".py",
   "mimetype": "text/x-python",
   "name": "python",
   "nbconvert_exporter": "python",
   "pygments_lexer": "ipython3",
   "version": "3.8.2"
  }
 },
 "nbformat": 4,
 "nbformat_minor": 4
}
