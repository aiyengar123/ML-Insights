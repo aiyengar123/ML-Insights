{
 "cells": [
  {
   "cell_type": "markdown",
   "metadata": {},
   "source": [
    "# Understanding US Police Shooting Fatality\n",
    "\n",
    "Let's get granular police shooting data to check if what we hear in the hears about police shooting fatality is consistent with actual data."
   ]
  },
  {
   "cell_type": "code",
   "execution_count": 1,
   "metadata": {},
   "outputs": [],
   "source": [
    "# Police Shooting in 2020\n",
    "us_2020_url = 'http://findmarley.org/the-data/database/2020'\n",
    "us_2019_url = 'http://findmarley.org/the-data/database/2019'\n",
    "\n",
    "us_2020_file = 'input/marley-police-fatality-2020june.csv'\n",
    "us_2019_file = 'input/marley-police-fatality-2019.csv'"
   ]
  },
  {
   "cell_type": "code",
   "execution_count": 2,
   "metadata": {},
   "outputs": [],
   "source": [
    "import numpy as np\n",
    "import pandas as pd\n",
    "\n",
    "pd.plotting.register_matplotlib_converters()\n",
    "import matplotlib.pyplot as plt\n",
    "import seaborn as sns\n",
    "import ssl\n",
    "import math\n",
    "\n",
    "ssl._create_default_https_context = ssl._create_unverified_context\n",
    "%matplotlib inline"
   ]
  },
  {
   "cell_type": "code",
   "execution_count": 3,
   "metadata": {},
   "outputs": [],
   "source": [
    "# df = pd.read_html(us_2020_url)"
   ]
  },
  {
   "cell_type": "code",
   "execution_count": 4,
   "metadata": {},
   "outputs": [],
   "source": [
    "df = pd.read_csv(us_2019_file, encoding='utf-8', index_col='ID', parse_dates=True)"
   ]
  },
  {
   "cell_type": "code",
   "execution_count": 5,
   "metadata": {},
   "outputs": [
    {
     "data": {
      "text/plain": [
       "(1795, 9)"
      ]
     },
     "execution_count": 5,
     "metadata": {},
     "output_type": "execute_result"
    }
   ],
   "source": [
    "df.shape"
   ]
  },
  {
   "cell_type": "code",
   "execution_count": 6,
   "metadata": {},
   "outputs": [
    {
     "data": {
      "text/html": [
       "<div>\n",
       "<style scoped>\n",
       "    .dataframe tbody tr th:only-of-type {\n",
       "        vertical-align: middle;\n",
       "    }\n",
       "\n",
       "    .dataframe tbody tr th {\n",
       "        vertical-align: top;\n",
       "    }\n",
       "\n",
       "    .dataframe thead th {\n",
       "        text-align: right;\n",
       "    }\n",
       "</style>\n",
       "<table border=\"1\" class=\"dataframe\">\n",
       "  <thead>\n",
       "    <tr style=\"text-align: right;\">\n",
       "      <th></th>\n",
       "      <th>AGE</th>\n",
       "    </tr>\n",
       "  </thead>\n",
       "  <tbody>\n",
       "    <tr>\n",
       "      <th>count</th>\n",
       "      <td>1795.000000</td>\n",
       "    </tr>\n",
       "    <tr>\n",
       "      <th>mean</th>\n",
       "      <td>34.812256</td>\n",
       "    </tr>\n",
       "    <tr>\n",
       "      <th>std</th>\n",
       "      <td>16.705357</td>\n",
       "    </tr>\n",
       "    <tr>\n",
       "      <th>min</th>\n",
       "      <td>0.000000</td>\n",
       "    </tr>\n",
       "    <tr>\n",
       "      <th>25%</th>\n",
       "      <td>25.000000</td>\n",
       "    </tr>\n",
       "    <tr>\n",
       "      <th>50%</th>\n",
       "      <td>34.000000</td>\n",
       "    </tr>\n",
       "    <tr>\n",
       "      <th>75%</th>\n",
       "      <td>45.000000</td>\n",
       "    </tr>\n",
       "    <tr>\n",
       "      <th>max</th>\n",
       "      <td>91.000000</td>\n",
       "    </tr>\n",
       "  </tbody>\n",
       "</table>\n",
       "</div>"
      ],
      "text/plain": [
       "               AGE\n",
       "count  1795.000000\n",
       "mean     34.812256\n",
       "std      16.705357\n",
       "min       0.000000\n",
       "25%      25.000000\n",
       "50%      34.000000\n",
       "75%      45.000000\n",
       "max      91.000000"
      ]
     },
     "execution_count": 6,
     "metadata": {},
     "output_type": "execute_result"
    }
   ],
   "source": [
    "df.describe()"
   ]
  },
  {
   "cell_type": "code",
   "execution_count": 7,
   "metadata": {},
   "outputs": [
    {
     "data": {
      "text/plain": [
       "Index(['DATE', 'NAME', 'AGE', 'GENDER', 'RACE', 'AGENCY', 'CITY', 'STATE',\n",
       "       'BRIEF'],\n",
       "      dtype='object')"
      ]
     },
     "execution_count": 7,
     "metadata": {},
     "output_type": "execute_result"
    }
   ],
   "source": [
    "df.columns"
   ]
  },
  {
   "cell_type": "code",
   "execution_count": 8,
   "metadata": {},
   "outputs": [
    {
     "data": {
      "text/html": [
       "<div>\n",
       "<style scoped>\n",
       "    .dataframe tbody tr th:only-of-type {\n",
       "        vertical-align: middle;\n",
       "    }\n",
       "\n",
       "    .dataframe tbody tr th {\n",
       "        vertical-align: top;\n",
       "    }\n",
       "\n",
       "    .dataframe thead th {\n",
       "        text-align: right;\n",
       "    }\n",
       "</style>\n",
       "<table border=\"1\" class=\"dataframe\">\n",
       "  <thead>\n",
       "    <tr style=\"text-align: right;\">\n",
       "      <th></th>\n",
       "      <th>DATE</th>\n",
       "      <th>NAME</th>\n",
       "      <th>AGE</th>\n",
       "      <th>GENDER</th>\n",
       "      <th>RACE</th>\n",
       "      <th>AGENCY</th>\n",
       "      <th>CITY</th>\n",
       "      <th>STATE</th>\n",
       "      <th>BRIEF</th>\n",
       "    </tr>\n",
       "    <tr>\n",
       "      <th>ID</th>\n",
       "      <th></th>\n",
       "      <th></th>\n",
       "      <th></th>\n",
       "      <th></th>\n",
       "      <th></th>\n",
       "      <th></th>\n",
       "      <th></th>\n",
       "      <th></th>\n",
       "      <th></th>\n",
       "    </tr>\n",
       "  </thead>\n",
       "  <tbody>\n",
       "    <tr>\n",
       "      <th>25378</th>\n",
       "      <td>1/1/19</td>\n",
       "      <td>Dylan Michael Smith</td>\n",
       "      <td>26</td>\n",
       "      <td>Male</td>\n",
       "      <td>European-American/White</td>\n",
       "      <td>Davidson County Sheriff's Office</td>\n",
       "      <td>Alleghany</td>\n",
       "      <td>NC</td>\n",
       "      <td>A deputy responded to a domestic disturbance c...</td>\n",
       "    </tr>\n",
       "    <tr>\n",
       "      <th>25379</th>\n",
       "      <td>1/1/19</td>\n",
       "      <td>Brandon Lovell Webster</td>\n",
       "      <td>28</td>\n",
       "      <td>Male</td>\n",
       "      <td>African-American/Black</td>\n",
       "      <td>North Carolina State Highway Patrol</td>\n",
       "      <td>Shallotte</td>\n",
       "      <td>NC</td>\n",
       "      <td>Trooper S.A. Collins initiated a traffic stop ...</td>\n",
       "    </tr>\n",
       "    <tr>\n",
       "      <th>25470</th>\n",
       "      <td>1/1/19</td>\n",
       "      <td>Charles Garrett lll</td>\n",
       "      <td>36</td>\n",
       "      <td>Male</td>\n",
       "      <td>African-American/Black</td>\n",
       "      <td>Savannah Police Department</td>\n",
       "      <td>Savannah</td>\n",
       "      <td>GA</td>\n",
       "      <td>Officers were called to City Market because a ...</td>\n",
       "    </tr>\n",
       "  </tbody>\n",
       "</table>\n",
       "</div>"
      ],
      "text/plain": [
       "         DATE                    NAME  AGE GENDER                     RACE  \\\n",
       "ID                                                                           \n",
       "25378  1/1/19     Dylan Michael Smith   26   Male  European-American/White   \n",
       "25379  1/1/19  Brandon Lovell Webster   28   Male   African-American/Black   \n",
       "25470  1/1/19     Charles Garrett lll   36   Male   African-American/Black   \n",
       "\n",
       "                                    AGENCY       CITY STATE  \\\n",
       "ID                                                            \n",
       "25378     Davidson County Sheriff's Office  Alleghany    NC   \n",
       "25379  North Carolina State Highway Patrol  Shallotte    NC   \n",
       "25470           Savannah Police Department   Savannah    GA   \n",
       "\n",
       "                                                   BRIEF  \n",
       "ID                                                        \n",
       "25378  A deputy responded to a domestic disturbance c...  \n",
       "25379  Trooper S.A. Collins initiated a traffic stop ...  \n",
       "25470  Officers were called to City Market because a ...  "
      ]
     },
     "execution_count": 8,
     "metadata": {},
     "output_type": "execute_result"
    }
   ],
   "source": [
    "df.head(3)"
   ]
  },
  {
   "cell_type": "code",
   "execution_count": 9,
   "metadata": {},
   "outputs": [
    {
     "data": {
      "text/html": [
       "<div>\n",
       "<style scoped>\n",
       "    .dataframe tbody tr th:only-of-type {\n",
       "        vertical-align: middle;\n",
       "    }\n",
       "\n",
       "    .dataframe tbody tr th {\n",
       "        vertical-align: top;\n",
       "    }\n",
       "\n",
       "    .dataframe thead th {\n",
       "        text-align: right;\n",
       "    }\n",
       "</style>\n",
       "<table border=\"1\" class=\"dataframe\">\n",
       "  <thead>\n",
       "    <tr style=\"text-align: right;\">\n",
       "      <th></th>\n",
       "      <th>DATE</th>\n",
       "      <th>NAME</th>\n",
       "      <th>AGE</th>\n",
       "      <th>GENDER</th>\n",
       "      <th>RACE</th>\n",
       "      <th>AGENCY</th>\n",
       "      <th>CITY</th>\n",
       "      <th>STATE</th>\n",
       "      <th>BRIEF</th>\n",
       "    </tr>\n",
       "    <tr>\n",
       "      <th>ID</th>\n",
       "      <th></th>\n",
       "      <th></th>\n",
       "      <th></th>\n",
       "      <th></th>\n",
       "      <th></th>\n",
       "      <th></th>\n",
       "      <th></th>\n",
       "      <th></th>\n",
       "      <th></th>\n",
       "    </tr>\n",
       "  </thead>\n",
       "  <tbody>\n",
       "    <tr>\n",
       "      <th>25378</th>\n",
       "      <td>2019-01-01</td>\n",
       "      <td>Dylan Michael Smith</td>\n",
       "      <td>26</td>\n",
       "      <td>Male</td>\n",
       "      <td>European-American/White</td>\n",
       "      <td>Davidson County Sheriff's Office</td>\n",
       "      <td>Alleghany</td>\n",
       "      <td>NC</td>\n",
       "      <td>A deputy responded to a domestic disturbance c...</td>\n",
       "    </tr>\n",
       "    <tr>\n",
       "      <th>25379</th>\n",
       "      <td>2019-01-01</td>\n",
       "      <td>Brandon Lovell Webster</td>\n",
       "      <td>28</td>\n",
       "      <td>Male</td>\n",
       "      <td>African-American/Black</td>\n",
       "      <td>North Carolina State Highway Patrol</td>\n",
       "      <td>Shallotte</td>\n",
       "      <td>NC</td>\n",
       "      <td>Trooper S.A. Collins initiated a traffic stop ...</td>\n",
       "    </tr>\n",
       "    <tr>\n",
       "      <th>25470</th>\n",
       "      <td>2019-01-01</td>\n",
       "      <td>Charles Garrett lll</td>\n",
       "      <td>36</td>\n",
       "      <td>Male</td>\n",
       "      <td>African-American/Black</td>\n",
       "      <td>Savannah Police Department</td>\n",
       "      <td>Savannah</td>\n",
       "      <td>GA</td>\n",
       "      <td>Officers were called to City Market because a ...</td>\n",
       "    </tr>\n",
       "    <tr>\n",
       "      <th>25985</th>\n",
       "      <td>2019-01-01</td>\n",
       "      <td>Ja'Ron Nero</td>\n",
       "      <td>23</td>\n",
       "      <td>Male</td>\n",
       "      <td>African-American/Black</td>\n",
       "      <td>Canton Police Department</td>\n",
       "      <td>Canton</td>\n",
       "      <td>OH</td>\n",
       "      <td>Ja'Ron Nero's body was found in the Nimishille...</td>\n",
       "    </tr>\n",
       "    <tr>\n",
       "      <th>25380</th>\n",
       "      <td>2019-01-02</td>\n",
       "      <td>Abdoulaye Thiam</td>\n",
       "      <td>20</td>\n",
       "      <td>Male</td>\n",
       "      <td>African-American/Black</td>\n",
       "      <td>Memphis Police Department</td>\n",
       "      <td>Memphis</td>\n",
       "      <td>TN</td>\n",
       "      <td>Police were called to a home at 8 p.m. for a d...</td>\n",
       "    </tr>\n",
       "  </tbody>\n",
       "</table>\n",
       "</div>"
      ],
      "text/plain": [
       "            DATE                    NAME  AGE GENDER                     RACE  \\\n",
       "ID                                                                              \n",
       "25378 2019-01-01     Dylan Michael Smith   26   Male  European-American/White   \n",
       "25379 2019-01-01  Brandon Lovell Webster   28   Male   African-American/Black   \n",
       "25470 2019-01-01     Charles Garrett lll   36   Male   African-American/Black   \n",
       "25985 2019-01-01             Ja'Ron Nero   23   Male   African-American/Black   \n",
       "25380 2019-01-02         Abdoulaye Thiam   20   Male   African-American/Black   \n",
       "\n",
       "                                    AGENCY       CITY STATE  \\\n",
       "ID                                                            \n",
       "25378     Davidson County Sheriff's Office  Alleghany    NC   \n",
       "25379  North Carolina State Highway Patrol  Shallotte    NC   \n",
       "25470           Savannah Police Department   Savannah    GA   \n",
       "25985             Canton Police Department     Canton    OH   \n",
       "25380            Memphis Police Department    Memphis    TN   \n",
       "\n",
       "                                                   BRIEF  \n",
       "ID                                                        \n",
       "25378  A deputy responded to a domestic disturbance c...  \n",
       "25379  Trooper S.A. Collins initiated a traffic stop ...  \n",
       "25470  Officers were called to City Market because a ...  \n",
       "25985  Ja'Ron Nero's body was found in the Nimishille...  \n",
       "25380  Police were called to a home at 8 p.m. for a d...  "
      ]
     },
     "execution_count": 9,
     "metadata": {},
     "output_type": "execute_result"
    }
   ],
   "source": [
    "# need to sort index by Date\n",
    "\n",
    "df['DATE'] = pd.to_datetime(df.DATE)\n",
    "df.sort_values(by='DATE')\n",
    "df.head(5)"
   ]
  },
  {
   "cell_type": "code",
   "execution_count": 10,
   "metadata": {},
   "outputs": [
    {
     "data": {
      "text/plain": [
       "(361,)"
      ]
     },
     "execution_count": 10,
     "metadata": {},
     "output_type": "execute_result"
    }
   ],
   "source": [
    "daily_count_series = df.groupby('DATE')['AGE'].count()\n",
    "daily_count_series.shape"
   ]
  },
  {
   "cell_type": "code",
   "execution_count": 11,
   "metadata": {},
   "outputs": [
    {
     "data": {
      "text/plain": [
       "DATE\n",
       "2019-01-01    4\n",
       "2019-01-02    7\n",
       "2019-01-03    7\n",
       "2019-01-04    6\n",
       "2019-01-05    7\n",
       "Name: AGE, dtype: int64"
      ]
     },
     "execution_count": 11,
     "metadata": {},
     "output_type": "execute_result"
    }
   ],
   "source": [
    "daily_count_series.head(5)"
   ]
  },
  {
   "cell_type": "code",
   "execution_count": 12,
   "metadata": {},
   "outputs": [
    {
     "data": {
      "text/plain": [
       "<matplotlib.ticker.MaxNLocator at 0x7ff06130e820>"
      ]
     },
     "execution_count": 12,
     "metadata": {},
     "output_type": "execute_result"
    },
    {
     "data": {
      "image/png": "[encoded data removed]",
      "text/plain": [
       "<Figure size 1008x432 with 1 Axes>"
      ]
     },
     "metadata": {
      "needs_background": "light"
     },
     "output_type": "display_data"
    }
   ],
   "source": [
    "fig = plt.figure(figsize=(14,6)); np.random.seed(123)\n",
    "\n",
    "plt.title(\"2019 Daily Police Fatal Shooting in US\")\n",
    "plot_ = sns.lineplot(data=daily_count_series)\n",
    "\n",
    "plt.ylabel('Daily Fatality')\n",
    "plt.xlabel('Date')\n",
    "\n",
    "plt.MaxNLocator(12)"
   ]
  },
  {
   "cell_type": "code",
   "execution_count": 13,
   "metadata": {},
   "outputs": [
    {
     "name": "stdout",
     "output_type": "stream",
     "text": [
      "<a list of 7 Text major ticklabel objects>\n"
     ]
    }
   ],
   "source": [
    "print(plot_.get_xticklabels())"
   ]
  },
  {
   "cell_type": "code",
   "execution_count": 14,
   "metadata": {},
   "outputs": [
    {
     "data": {
      "text/plain": [
       "DATE\n",
       "2019-12-27     4\n",
       "2019-12-28     6\n",
       "2019-12-29     5\n",
       "2019-12-30     4\n",
       "2019-12-31    11\n",
       "Name: AGE, dtype: int64"
      ]
     },
     "execution_count": 14,
     "metadata": {},
     "output_type": "execute_result"
    }
   ],
   "source": [
    "daily_count_series.tail(5)"
   ]
  },
  {
   "cell_type": "markdown",
   "metadata": {},
   "source": [
    "### Age distribution"
   ]
  },
  {
   "cell_type": "code",
   "execution_count": 15,
   "metadata": {},
   "outputs": [],
   "source": [
    "age_death_input = df.groupby('AGE')['DATE'].size()"
   ]
  },
  {
   "cell_type": "code",
   "execution_count": 16,
   "metadata": {},
   "outputs": [
    {
     "name": "stdout",
     "output_type": "stream",
     "text": [
      "<class 'pandas.core.series.Series'>\n"
     ]
    },
    {
     "data": {
      "text/plain": [
       "AGE\n",
       "0    116\n",
       "1      2\n",
       "2      2\n",
       "4      1\n",
       "5      1\n",
       "Name: DATE, dtype: int64"
      ]
     },
     "execution_count": 16,
     "metadata": {},
     "output_type": "execute_result"
    }
   ],
   "source": [
    "print(type(age_death_input))\n",
    "age_death_input.head(5)"
   ]
  },
  {
   "cell_type": "code",
   "execution_count": 17,
   "metadata": {},
   "outputs": [
    {
     "data": {
      "text/plain": [
       "AGE\n",
       "1    2\n",
       "2    2\n",
       "4    1\n",
       "5    1\n",
       "6    3\n",
       "Name: DATE, dtype: int64"
      ]
     },
     "execution_count": 17,
     "metadata": {},
     "output_type": "execute_result"
    }
   ],
   "source": [
    "del age_death_input[0]\n",
    "age_death_input.head(5)"
   ]
  },
  {
   "cell_type": "code",
   "execution_count": 18,
   "metadata": {},
   "outputs": [
    {
     "data": {
      "text/plain": [
       "(84,)"
      ]
     },
     "execution_count": 18,
     "metadata": {},
     "output_type": "execute_result"
    }
   ],
   "source": [
    "# remove AGE=0 which means unspecified AGE\n",
    "age_death_input.shape"
   ]
  },
  {
   "cell_type": "code",
   "execution_count": 19,
   "metadata": {},
   "outputs": [
    {
     "data": {
      "text/plain": [
       "91"
      ]
     },
     "execution_count": 19,
     "metadata": {},
     "output_type": "execute_result"
    }
   ],
   "source": [
    "age_death_input.index.max()"
   ]
  },
  {
   "cell_type": "code",
   "execution_count": 20,
   "metadata": {},
   "outputs": [
    {
     "data": {
      "text/plain": [
       "91"
      ]
     },
     "execution_count": 20,
     "metadata": {},
     "output_type": "execute_result"
    }
   ],
   "source": [
    "zeros = np.zeros(age_death_input.index.max())\n",
    "len(zeros)"
   ]
  },
  {
   "cell_type": "code",
   "execution_count": 21,
   "metadata": {},
   "outputs": [
    {
     "data": {
      "text/plain": [
       "numpy.ndarray"
      ]
     },
     "execution_count": 21,
     "metadata": {},
     "output_type": "execute_result"
    }
   ],
   "source": [
    "type(zeros)"
   ]
  },
  {
   "cell_type": "code",
   "execution_count": 25,
   "metadata": {},
   "outputs": [
    {
     "data": {
      "text/html": [
       "<div>\n",
       "<style scoped>\n",
       "    .dataframe tbody tr th:only-of-type {\n",
       "        vertical-align: middle;\n",
       "    }\n",
       "\n",
       "    .dataframe tbody tr th {\n",
       "        vertical-align: top;\n",
       "    }\n",
       "\n",
       "    .dataframe thead th {\n",
       "        text-align: right;\n",
       "    }\n",
       "</style>\n",
       "<table border=\"1\" class=\"dataframe\">\n",
       "  <thead>\n",
       "    <tr style=\"text-align: right;\">\n",
       "      <th></th>\n",
       "      <th>DEATHS</th>\n",
       "    </tr>\n",
       "  </thead>\n",
       "  <tbody>\n",
       "    <tr>\n",
       "      <th>1</th>\n",
       "      <td>0</td>\n",
       "    </tr>\n",
       "    <tr>\n",
       "      <th>2</th>\n",
       "      <td>0</td>\n",
       "    </tr>\n",
       "    <tr>\n",
       "      <th>3</th>\n",
       "      <td>0</td>\n",
       "    </tr>\n",
       "    <tr>\n",
       "      <th>4</th>\n",
       "      <td>0</td>\n",
       "    </tr>\n",
       "    <tr>\n",
       "      <th>5</th>\n",
       "      <td>0</td>\n",
       "    </tr>\n",
       "    <tr>\n",
       "      <th>...</th>\n",
       "      <td>...</td>\n",
       "    </tr>\n",
       "    <tr>\n",
       "      <th>87</th>\n",
       "      <td>0</td>\n",
       "    </tr>\n",
       "    <tr>\n",
       "      <th>88</th>\n",
       "      <td>0</td>\n",
       "    </tr>\n",
       "    <tr>\n",
       "      <th>89</th>\n",
       "      <td>0</td>\n",
       "    </tr>\n",
       "    <tr>\n",
       "      <th>90</th>\n",
       "      <td>0</td>\n",
       "    </tr>\n",
       "    <tr>\n",
       "      <th>91</th>\n",
       "      <td>0</td>\n",
       "    </tr>\n",
       "  </tbody>\n",
       "</table>\n",
       "<p>91 rows × 1 columns</p>\n",
       "</div>"
      ],
      "text/plain": [
       "    DEATHS\n",
       "1        0\n",
       "2        0\n",
       "3        0\n",
       "4        0\n",
       "5        0\n",
       "..     ...\n",
       "87       0\n",
       "88       0\n",
       "89       0\n",
       "90       0\n",
       "91       0\n",
       "\n",
       "[91 rows x 1 columns]"
      ]
     },
     "execution_count": 25,
     "metadata": {},
     "output_type": "execute_result"
    }
   ],
   "source": [
    "age_death = pd.DataFrame(zeros, \n",
    "                         columns=['DEATHS'],\n",
    "                         dtype='int32',\n",
    "                         index=np.arange(1, len(zeros)+1))\n",
    "age_death"
   ]
  },
  {
   "cell_type": "code",
   "execution_count": 26,
   "metadata": {},
   "outputs": [],
   "source": [
    "for age,deaths in age_death_input.items():\n",
    "    age_death.at[age,'DEATHS'] = deaths"
   ]
  },
  {
   "cell_type": "code",
   "execution_count": 27,
   "metadata": {},
   "outputs": [
    {
     "data": {
      "text/html": [
       "<div>\n",
       "<style scoped>\n",
       "    .dataframe tbody tr th:only-of-type {\n",
       "        vertical-align: middle;\n",
       "    }\n",
       "\n",
       "    .dataframe tbody tr th {\n",
       "        vertical-align: top;\n",
       "    }\n",
       "\n",
       "    .dataframe thead th {\n",
       "        text-align: right;\n",
       "    }\n",
       "</style>\n",
       "<table border=\"1\" class=\"dataframe\">\n",
       "  <thead>\n",
       "    <tr style=\"text-align: right;\">\n",
       "      <th></th>\n",
       "      <th>DEATHS</th>\n",
       "    </tr>\n",
       "  </thead>\n",
       "  <tbody>\n",
       "    <tr>\n",
       "      <th>1</th>\n",
       "      <td>2</td>\n",
       "    </tr>\n",
       "    <tr>\n",
       "      <th>2</th>\n",
       "      <td>2</td>\n",
       "    </tr>\n",
       "    <tr>\n",
       "      <th>3</th>\n",
       "      <td>0</td>\n",
       "    </tr>\n",
       "    <tr>\n",
       "      <th>4</th>\n",
       "      <td>1</td>\n",
       "    </tr>\n",
       "    <tr>\n",
       "      <th>5</th>\n",
       "      <td>1</td>\n",
       "    </tr>\n",
       "    <tr>\n",
       "      <th>...</th>\n",
       "      <td>...</td>\n",
       "    </tr>\n",
       "    <tr>\n",
       "      <th>87</th>\n",
       "      <td>1</td>\n",
       "    </tr>\n",
       "    <tr>\n",
       "      <th>88</th>\n",
       "      <td>0</td>\n",
       "    </tr>\n",
       "    <tr>\n",
       "      <th>89</th>\n",
       "      <td>1</td>\n",
       "    </tr>\n",
       "    <tr>\n",
       "      <th>90</th>\n",
       "      <td>0</td>\n",
       "    </tr>\n",
       "    <tr>\n",
       "      <th>91</th>\n",
       "      <td>2</td>\n",
       "    </tr>\n",
       "  </tbody>\n",
       "</table>\n",
       "<p>91 rows × 1 columns</p>\n",
       "</div>"
      ],
      "text/plain": [
       "    DEATHS\n",
       "1        2\n",
       "2        2\n",
       "3        0\n",
       "4        1\n",
       "5        1\n",
       "..     ...\n",
       "87       1\n",
       "88       0\n",
       "89       1\n",
       "90       0\n",
       "91       2\n",
       "\n",
       "[91 rows x 1 columns]"
      ]
     },
     "execution_count": 27,
     "metadata": {},
     "output_type": "execute_result"
    }
   ],
   "source": [
    "age_death"
   ]
  },
  {
   "cell_type": "code",
   "execution_count": 28,
   "metadata": {},
   "outputs": [
    {
     "data": {
      "image/png": "[encoded data removed]",
      "text/plain": [
       "<Figure size 1008x432 with 1 Axes>"
      ]
     },
     "metadata": {
      "needs_background": "light"
     },
     "output_type": "display_data"
    }
   ],
   "source": [
    "fig = plt.figure(figsize=(14,6)); np.random.seed(123)\n",
    "\n",
    "plt.title(\"Age Distribution of 2019 Police Fatal Shooting in US\")\n",
    "# ax = sns.barplot(x=age_death.index, y=age_death)\n",
    "ax = sns.barplot(x=age_death.index, y=age_death['DEATHS'])\n",
    "\n",
    "plt.ylabel('# Deaths')\n",
    "plt.xlabel('Age')\n",
    "\n",
    "for label in ax.get_xticklabels()[::2]:\n",
    "    label.set_visible(False)"
   ]
  },
  {
   "cell_type": "code",
   "execution_count": 30,
   "metadata": {},
   "outputs": [
    {
     "data": {
      "text/plain": [
       "(0.0, 107.86503969788963)"
      ]
     },
     "execution_count": 30,
     "metadata": {},
     "output_type": "execute_result"
    },
    {
     "data": {
      "image/png": "[encoded data removed]",
      "text/plain": [
       "<Figure size 1008x432 with 1 Axes>"
      ]
     },
     "metadata": {},
     "output_type": "display_data"
    }
   ],
   "source": [
    "sns.set(color_codes=True)\n",
    "fig = plt.figure(figsize=(14,6)); np.random.seed(123)\n",
    "\n",
    "plt.title(\"Age Distribution of 2019 Police Fatal Shooting in US\")\n",
    "ax = sns.kdeplot(df.AGE, shade=True)\n",
    "\n",
    "plt.ylabel('Density')\n",
    "plt.xlabel('Age')\n",
    "plt.xlim(0, None)\n",
    "\n",
    "#for label in ax.get_xticklabels()[::2]:\n",
    "#    label.set_visible(False)"
   ]
  },
  {
   "cell_type": "code",
   "execution_count": 31,
   "metadata": {},
   "outputs": [
    {
     "data": {
      "text/plain": [
       "GENDER              RACE                   \n",
       "Female              African-American/Black      46\n",
       "                    Asian/Pacific Islander       6\n",
       "                    European-American/White     86\n",
       "                    Hispanic/Latino             14\n",
       "                    Race unspecified            24\n",
       "Gender Unspecified  European-American/White      1\n",
       "                    Hispanic/Latino              3\n",
       "                    Race unspecified            11\n",
       "Male                African-American/Black     375\n",
       "                    Asian/Pacific Islander      32\n",
       "                    European-American/White    541\n",
       "                    Hispanic/Latino            216\n",
       "                    Middle Eastern               4\n",
       "                    Native American/Alaskan     16\n",
       "                    Race unspecified           419\n",
       "Transgender         Race unspecified             1\n",
       "Name: DATE, dtype: int64"
      ]
     },
     "execution_count": 31,
     "metadata": {},
     "output_type": "execute_result"
    }
   ],
   "source": [
    "df.groupby(['GENDER', 'RACE'])['DATE'].count()"
   ]
  },
  {
   "cell_type": "markdown",
   "metadata": {},
   "source": [
    "## US Population Characteriziation\n",
    "\n",
    "Source: https://www.census.gov/quickfacts/fact/table/US/IPE120218\n",
    "\n",
    "Population estimates, July 1, 2019, (V2019)\t328,239,523\n",
    "\n",
    "| Race and Ethnicity | Percentage | People |\n",
    "| -------------------| -----------|--------|\n",
    "| White                               | 76.5% | 251103235|\n",
    "| Black or African American           | 13.4% | 43984096 |\n",
    "| American Indian and Alaska Native   | 1.3%  | 4267114  |\n",
    "| Asian                               | 5.9%  | 19366132 |\n",
    "| Native Hawaiian Pacific Islander    | 0.2%  | 656479   |\n",
    "| Two or More Races                   | 2.7%  | 8862467  |\n",
    "| Hispanic or Latino                  | 18.3% | 60067833 |\n",
    "| White alone, not Hispanic or Latino | 60.4% | 198256672|\n",
    "\n"
   ]
  },
  {
   "cell_type": "code",
   "execution_count": 32,
   "metadata": {},
   "outputs": [
    {
     "data": {
      "text/plain": [
       "RACE\n",
       "African-American/Black     421\n",
       "Asian/Pacific Islander      38\n",
       "European-American/White    628\n",
       "Hispanic/Latino            233\n",
       "Middle Eastern               4\n",
       "Native American/Alaskan     16\n",
       "Race unspecified           455\n",
       "Name: DATE, dtype: int64"
      ]
     },
     "execution_count": 32,
     "metadata": {},
     "output_type": "execute_result"
    }
   ],
   "source": [
    "race_death_count = df.groupby(['RACE'])['DATE'].count()\n",
    "race_death_count"
   ]
  },
  {
   "cell_type": "code",
   "execution_count": 33,
   "metadata": {},
   "outputs": [],
   "source": [
    "US_POPULATION_2019 = 328239523"
   ]
  },
  {
   "cell_type": "code",
   "execution_count": 34,
   "metadata": {},
   "outputs": [
    {
     "data": {
      "text/html": [
       "<div>\n",
       "<style scoped>\n",
       "    .dataframe tbody tr th:only-of-type {\n",
       "        vertical-align: middle;\n",
       "    }\n",
       "\n",
       "    .dataframe tbody tr th {\n",
       "        vertical-align: top;\n",
       "    }\n",
       "\n",
       "    .dataframe thead th {\n",
       "        text-align: right;\n",
       "    }\n",
       "</style>\n",
       "<table border=\"1\" class=\"dataframe\">\n",
       "  <thead>\n",
       "    <tr style=\"text-align: right;\">\n",
       "      <th></th>\n",
       "      <th>Population</th>\n",
       "      <th>Deaths</th>\n",
       "      <th>Rate</th>\n",
       "    </tr>\n",
       "    <tr>\n",
       "      <th>Race</th>\n",
       "      <th></th>\n",
       "      <th></th>\n",
       "      <th></th>\n",
       "    </tr>\n",
       "  </thead>\n",
       "  <tbody>\n",
       "    <tr>\n",
       "      <th>Asian/Pacific Islander</th>\n",
       "      <td>20022611</td>\n",
       "      <td>0.0</td>\n",
       "      <td>0.0</td>\n",
       "    </tr>\n",
       "    <tr>\n",
       "      <th>European-American/White</th>\n",
       "      <td>251103235</td>\n",
       "      <td>0.0</td>\n",
       "      <td>0.0</td>\n",
       "    </tr>\n",
       "    <tr>\n",
       "      <th>Native American/Alaskan</th>\n",
       "      <td>4267114</td>\n",
       "      <td>0.0</td>\n",
       "      <td>0.0</td>\n",
       "    </tr>\n",
       "    <tr>\n",
       "      <th>Hispanic/Latino</th>\n",
       "      <td>60067833</td>\n",
       "      <td>0.0</td>\n",
       "      <td>0.0</td>\n",
       "    </tr>\n",
       "    <tr>\n",
       "      <th>African-American/Black</th>\n",
       "      <td>43984096</td>\n",
       "      <td>0.0</td>\n",
       "      <td>0.0</td>\n",
       "    </tr>\n",
       "  </tbody>\n",
       "</table>\n",
       "</div>"
      ],
      "text/plain": [
       "                         Population  Deaths  Rate\n",
       "Race                                             \n",
       "Asian/Pacific Islander     20022611     0.0   0.0\n",
       "European-American/White   251103235     0.0   0.0\n",
       "Native American/Alaskan     4267114     0.0   0.0\n",
       "Hispanic/Latino            60067833     0.0   0.0\n",
       "African-American/Black     43984096     0.0   0.0"
      ]
     },
     "execution_count": 34,
     "metadata": {},
     "output_type": "execute_result"
    }
   ],
   "source": [
    "race_data = pd.DataFrame({ 'Race' : \n",
    "                                [\n",
    "                                 'Asian/Pacific Islander', \n",
    "                                 'European-American/White', \n",
    "                                 'Native American/Alaskan',\n",
    "                                 'Hispanic/Latino',\n",
    "                                 'African-American/Black', \n",
    "                                ],\n",
    "                            'Population' :\n",
    "                                 [\n",
    "                                  19366132+656479,\n",
    "                                  251103235, \n",
    "                                  4267114,\n",
    "                                  60067833,\n",
    "                                  43984096, \n",
    "                                  ],\n",
    "                             'Deaths' : np.zeros(5),\n",
    "                             'Rate' : np.zeros(5)\n",
    "                         })\n",
    "race_data.set_index('Race')"
   ]
  },
  {
   "cell_type": "code",
   "execution_count": 35,
   "metadata": {},
   "outputs": [],
   "source": [
    "# calculate deaths per 100,000 people\n",
    "\n",
    "for race,deaths in race_death_count.items():\n",
    "    population = race_data.loc[ race_data['Race']==race ]['Population']\n",
    "    scale = population / US_POPULATION_2019 * 100000.0\n",
    "    \n",
    "    race_data.loc[ race_data['Race']==race, 'Deaths'] = deaths\n",
    "    race_data.loc[ race_data['Race']==race, 'Rate'] = deaths / scale\n"
   ]
  },
  {
   "cell_type": "code",
   "execution_count": 36,
   "metadata": {},
   "outputs": [
    {
     "data": {
      "text/html": [
       "<div>\n",
       "<style scoped>\n",
       "    .dataframe tbody tr th:only-of-type {\n",
       "        vertical-align: middle;\n",
       "    }\n",
       "\n",
       "    .dataframe tbody tr th {\n",
       "        vertical-align: top;\n",
       "    }\n",
       "\n",
       "    .dataframe thead th {\n",
       "        text-align: right;\n",
       "    }\n",
       "</style>\n",
       "<table border=\"1\" class=\"dataframe\">\n",
       "  <thead>\n",
       "    <tr style=\"text-align: right;\">\n",
       "      <th></th>\n",
       "      <th>Race</th>\n",
       "      <th>Population</th>\n",
       "      <th>Deaths</th>\n",
       "      <th>Rate</th>\n",
       "    </tr>\n",
       "  </thead>\n",
       "  <tbody>\n",
       "    <tr>\n",
       "      <th>0</th>\n",
       "      <td>Asian/Pacific Islander</td>\n",
       "      <td>20022611</td>\n",
       "      <td>38.0</td>\n",
       "      <td>0.006230</td>\n",
       "    </tr>\n",
       "    <tr>\n",
       "      <th>1</th>\n",
       "      <td>European-American/White</td>\n",
       "      <td>251103235</td>\n",
       "      <td>628.0</td>\n",
       "      <td>0.008209</td>\n",
       "    </tr>\n",
       "    <tr>\n",
       "      <th>2</th>\n",
       "      <td>Native American/Alaskan</td>\n",
       "      <td>4267114</td>\n",
       "      <td>16.0</td>\n",
       "      <td>0.012308</td>\n",
       "    </tr>\n",
       "    <tr>\n",
       "      <th>3</th>\n",
       "      <td>Hispanic/Latino</td>\n",
       "      <td>60067833</td>\n",
       "      <td>233.0</td>\n",
       "      <td>0.012732</td>\n",
       "    </tr>\n",
       "    <tr>\n",
       "      <th>4</th>\n",
       "      <td>African-American/Black</td>\n",
       "      <td>43984096</td>\n",
       "      <td>421.0</td>\n",
       "      <td>0.031418</td>\n",
       "    </tr>\n",
       "  </tbody>\n",
       "</table>\n",
       "</div>"
      ],
      "text/plain": [
       "                      Race  Population  Deaths      Rate\n",
       "0   Asian/Pacific Islander    20022611    38.0  0.006230\n",
       "1  European-American/White   251103235   628.0  0.008209\n",
       "2  Native American/Alaskan     4267114    16.0  0.012308\n",
       "3          Hispanic/Latino    60067833   233.0  0.012732\n",
       "4   African-American/Black    43984096   421.0  0.031418"
      ]
     },
     "execution_count": 36,
     "metadata": {},
     "output_type": "execute_result"
    }
   ],
   "source": [
    "race_data"
   ]
  },
  {
   "cell_type": "code",
   "execution_count": 37,
   "metadata": {},
   "outputs": [
    {
     "data": {
      "text/plain": [
       "Text(0.5, 0, '')"
      ]
     },
     "execution_count": 37,
     "metadata": {},
     "output_type": "execute_result"
    },
    {
     "data": {
      "image/png": "[encoded data removed]",
      "text/plain": [
       "<Figure size 1008x432 with 1 Axes>"
      ]
     },
     "metadata": {},
     "output_type": "display_data"
    }
   ],
   "source": [
    "fig = plt.figure(figsize=(14,6)); np.random.seed(123)\n",
    "\n",
    "plt.title(\"2019 US Police Fatal Shooting Death per 100,000\")\n",
    "ax = sns.barplot(x=race_data.Race, y=race_data.Rate)\n",
    "\n",
    "plt.ylabel('Death per 100,000')\n",
    "plt.xlabel('')"
   ]
  },
  {
   "cell_type": "code",
   "execution_count": 39,
   "metadata": {},
   "outputs": [
    {
     "data": {
      "text/plain": [
       "RACE\n",
       "African-American/Black     32.014252\n",
       "Asian/Pacific Islander     38.342105\n",
       "European-American/White    39.628981\n",
       "Hispanic/Latino            32.502146\n",
       "Middle Eastern             32.500000\n",
       "Native American/Alaskan    32.187500\n",
       "Race unspecified           31.753846\n",
       "Name: AGE, dtype: float64"
      ]
     },
     "execution_count": 39,
     "metadata": {},
     "output_type": "execute_result"
    }
   ],
   "source": [
    "df.groupby('RACE')['AGE'].mean()"
   ]
  },
  {
   "cell_type": "code",
   "execution_count": 40,
   "metadata": {},
   "outputs": [
    {
     "data": {
      "text/plain": [
       "RACE                     GENDER            \n",
       "African-American/Black   Female                35.869565\n",
       "                         Male                  31.541333\n",
       "Asian/Pacific Islander   Female                41.833333\n",
       "                         Male                  37.687500\n",
       "European-American/White  Female                36.569767\n",
       "                         Gender Unspecified     0.000000\n",
       "                         Male                  40.188540\n",
       "Hispanic/Latino          Female                36.857143\n",
       "                         Gender Unspecified     0.000000\n",
       "                         Male                  32.671296\n",
       "Middle Eastern           Male                  32.500000\n",
       "Native American/Alaskan  Male                  32.187500\n",
       "Race unspecified         Female                30.291667\n",
       "                         Gender Unspecified     0.000000\n",
       "                         Male                  32.670644\n",
       "                         Transgender           32.000000\n",
       "Name: AGE, dtype: float64"
      ]
     },
     "execution_count": 40,
     "metadata": {},
     "output_type": "execute_result"
    }
   ],
   "source": [
    "df.groupby(['RACE', 'GENDER'])['AGE'].mean()"
   ]
  },
  {
   "cell_type": "code",
   "execution_count": null,
   "metadata": {},
   "outputs": [],
   "source": []
  }
 ],
 "metadata": {
  "kernelspec": {
   "display_name": "Python 3",
   "language": "python",
   "name": "python3"
  },
  "language_info": {
   "codemirror_mode": {
    "name": "ipython",
    "version": 3
   },
   "file_extension": ".py",
   "mimetype": "text/x-python",
   "name": "python",
   "nbconvert_exporter": "python",
   "pygments_lexer": "ipython3",
   "version": "3.6.5"
  }
 },
 "nbformat": 4,
 "nbformat_minor": 4
}
